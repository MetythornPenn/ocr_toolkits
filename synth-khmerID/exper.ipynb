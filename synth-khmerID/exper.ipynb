{
 "cells": [
  {
   "cell_type": "code",
   "execution_count": 16,
   "metadata": {},
   "outputs": [],
   "source": [
    "from utils import (\n",
    "    generate_commune_and_district,\n",
    "    to_khmer_numeral,\n",
    "    generate_dob,\n",
    "    generate_gender,\n",
    "    generate_place_of_birth,\n",
    "    generate_address,\n",
    "    generate_id_number,\n",
    "    generate_issue_and_expiry_dates,\n",
    "    download_image,\n",
    "    generate_khmer_name,\n",
    "    generate_english_name,\n",
    ")\n",
    "\n",
    "\n",
    "from pykhmernlp.number import to_khmer_num\n",
    "\n"
   ]
  },
  {
   "cell_type": "code",
   "execution_count": 7,
   "metadata": {},
   "outputs": [
    {
     "name": "stdout",
     "output_type": "stream",
     "text": [
      "ស្រី\n"
     ]
    }
   ],
   "source": [
    "test_generate_gender = generate_gender()\n",
    "print(test_generate_gender)"
   ]
  },
  {
   "cell_type": "code",
   "execution_count": 11,
   "metadata": {},
   "outputs": [
    {
     "name": "stdout",
     "output_type": "stream",
     "text": [
      "ឃុំពុទ្រា ស្រុកស្ទឹងហាវ កែប\n"
     ]
    }
   ],
   "source": [
    "test_generate_place_of_birth = generate_place_of_birth()\n",
    "print(test_generate_place_of_birth)"
   ]
  },
  {
   "cell_type": "code",
   "execution_count": 20,
   "metadata": {},
   "outputs": [
    {
     "name": "stdout",
     "output_type": "stream",
     "text": [
      "១២៣៤៥\n"
     ]
    }
   ],
   "source": [
    "text = \"price of book = 12345f\"\n",
    "test_to_khmer_numeral = to_khmer_numeral(text)\n",
    "print(test_to_khmer_numeral)"
   ]
  },
  {
   "cell_type": "code",
   "execution_count": 21,
   "metadata": {},
   "outputs": [
    {
     "name": "stdout",
     "output_type": "stream",
     "text": [
      "price of book = ១២៣៤៥f\n"
     ]
    }
   ],
   "source": [
    "text = \"price of book = 12345f\"\n",
    "rs = to_khmer_num(text)\n",
    "print(rs)"
   ]
  },
  {
   "cell_type": "code",
   "execution_count": 22,
   "metadata": {},
   "outputs": [
    {
     "name": "stdout",
     "output_type": "stream",
     "text": [
      "14.05.1982\n"
     ]
    }
   ],
   "source": [
    "test_generate_dob = generate_dob()\n",
    "print(test_generate_dob)"
   ]
  },
  {
   "cell_type": "code",
   "execution_count": 23,
   "metadata": {},
   "outputs": [
    {
     "name": "stdout",
     "output_type": "stream",
     "text": [
      "១៧.០២.១៩៩៤\n"
     ]
    }
   ],
   "source": [
    "test_generate_dob = generate_dob()\n",
    "khm_dob = to_khmer_num(test_generate_dob)\n",
    "\n",
    "print(khm_dob)"
   ]
  },
  {
   "cell_type": "code",
   "execution_count": 25,
   "metadata": {},
   "outputs": [
    {
     "name": "stdout",
     "output_type": "stream",
     "text": [
      "ប្រុស\n"
     ]
    }
   ],
   "source": [
    "test_generate_gender = generate_gender()\n",
    "print(test_generate_gender)\n"
   ]
  },
  {
   "cell_type": "code",
   "execution_count": 26,
   "metadata": {},
   "outputs": [
    {
     "name": "stdout",
     "output_type": "stream",
     "text": [
      "ឃុំរកាកោងទី១ ស្រុកគាស់ក្រឡ ឧត្ដរមានជ័យ\n"
     ]
    }
   ],
   "source": [
    "test_generate_place_of_birth = generate_place_of_birth()\n",
    "print(test_generate_place_of_birth)"
   ]
  },
  {
   "cell_type": "code",
   "execution_count": 27,
   "metadata": {},
   "outputs": [
    {
     "name": "stdout",
     "output_type": "stream",
     "text": [
      "ភូមិគង្គាផុស\n",
      "ឃុំឆ្លូង ស្រុកស្វាយជ្រំ ព្រះវិហារ\n"
     ]
    }
   ],
   "source": [
    "test_generate_address = generate_address()\n",
    "print(test_generate_address)"
   ]
  },
  {
   "cell_type": "code",
   "execution_count": 28,
   "metadata": {},
   "outputs": [
    {
     "name": "stdout",
     "output_type": "stream",
     "text": [
      "970392613\n"
     ]
    }
   ],
   "source": [
    "test_generate_id_number = generate_id_number()\n",
    "print(test_generate_id_number)"
   ]
  },
  {
   "cell_type": "code",
   "execution_count": 29,
   "metadata": {},
   "outputs": [
    {
     "name": "stdout",
     "output_type": "stream",
     "text": [
      "('29.08.2016', '12.12.2021')\n"
     ]
    }
   ],
   "source": [
    "test_generate_issue_and_expiry_dates = generate_issue_and_expiry_dates()\n",
    "print(test_generate_issue_and_expiry_dates)"
   ]
  },
  {
   "cell_type": "code",
   "execution_count": 31,
   "metadata": {},
   "outputs": [],
   "source": [
    "# test_download_image = download_image()\n",
    "# print(test_download_image)"
   ]
  },
  {
   "cell_type": "code",
   "execution_count": 32,
   "metadata": {},
   "outputs": [
    {
     "name": "stdout",
     "output_type": "stream",
     "text": [
      "នៅពេល សហេតុ\n"
     ]
    }
   ],
   "source": [
    "test_generate_khmer_name = generate_khmer_name()\n",
    "print(test_generate_khmer_name)"
   ]
  },
  {
   "cell_type": "code",
   "execution_count": 33,
   "metadata": {},
   "outputs": [
    {
     "name": "stdout",
     "output_type": "stream",
     "text": [
      "unpil alloxy\n"
     ]
    }
   ],
   "source": [
    "test_generate_english_name = generate_english_name()\n",
    "print(test_generate_english_name)"
   ]
  },
  {
   "cell_type": "code",
   "execution_count": 125,
   "metadata": {},
   "outputs": [
    {
     "name": "stdout",
     "output_type": "stream",
     "text": [
      "Bounding box coordinates have been exported to bboxes.json\n"
     ]
    }
   ],
   "source": [
    "import json\n",
    "from PIL import Image, ImageDraw, ImageFont\n",
    "\n",
    "# Import your utilities (assuming these functions are defined in utils module)\n",
    "from utils import (\n",
    "    generate_commune_and_district,\n",
    "    to_khmer_numeral,\n",
    "    generate_dob,\n",
    "    generate_gender,\n",
    "    generate_place_of_birth,\n",
    "    generate_address,\n",
    "    generate_id_number,\n",
    "    generate_issue_and_expiry_dates,\n",
    "    download_image,\n",
    "    generate_khmer_name,\n",
    "    generate_english_name,\n",
    ")\n",
    "\n",
    "from pykhmernlp.number import to_khmer_num\n",
    "\n",
    "# Define the font path and size\n",
    "font_bokor_path = \"fonts/ocr_b.ttf\" \n",
    "font_content_bold_path = \"fonts/content_bold.ttf\"\n",
    "font_dejavu_path = \"fonts/DejaVuSansMono.ttf\"\n",
    "font_khmeros_path = \"fonts/Khmer OS Content.ttf\"\n",
    "font_khmer_moul_path = \"fonts/khmer_moul.ttf\"\n",
    "font_ocrb_path = \"fonts/ocr_b.ttf\"\n",
    "\n",
    "\n",
    "font_size = 12\n",
    "font_bokor = ImageFont.truetype(font_bokor_path, font_size)\n",
    "font_content_bold = ImageFont.truetype(font_content_bold_path, 55)\n",
    "font_dejavu = ImageFont.truetype(font_dejavu_path, font_size)\n",
    "font_khmeros = ImageFont.truetype(font_khmeros_path, font_size)\n",
    "font_khmer_moul = ImageFont.truetype(font_khmer_moul_path, font_size)\n",
    "font_ocrb = ImageFont.truetype(font_ocrb_path, font_size)\n",
    "\n",
    "mrz_font = ImageFont.truetype(font_ocrb_path, 50)\n",
    "\n",
    "# Create a blank white image\n",
    "width, height = 1575, 1024\n",
    "\n",
    "\"\"\" \n",
    "Ratio : 1.5385\n",
    "400 x 260\n",
    "1575   x 1024\n",
    "\n",
    "\"\"\"\n",
    "image = Image.new('RGB', (width, height), 'white')\n",
    "\n",
    "# Create a drawing context\n",
    "draw = ImageDraw.Draw(image)\n",
    "\n",
    "# Define the dimensions of the bounding boxes\n",
    "bbox_width = 100\n",
    "bbox_height = 20\n",
    "\n",
    "# Generate text for the bounding boxes\n",
    "text_1 = generate_id_number()\n",
    "text_2 = generate_khmer_name()\n",
    "text_3 = generate_english_name()\n",
    "text_4 = \"DOB \" + generate_dob() + \" \" + generate_gender()\n",
    "text_5 = generate_place_of_birth()\n",
    "text_6 = generate_address()\n",
    "text_7 = generate_place_of_birth()\n",
    "# text_8 = generate_issue_and_expiry_dates()\n",
    "text_8 = \"bla bla bla\"\n",
    "text_9 = \"Identity: bla bla bla\"\n",
    "text_10 = f\"IDKHM{generate_id_number()}<<<<<<<<<<<<<<<<<<<<<<<<<<<<<<<<<<\"\n",
    "text_11 = f\"{generate_issue_and_expiry_dates()} KHM<<<<<<<<<<<<<<<<\"\n",
    "text_12 = f\"{generate_english_name()} <<<<<<<<<<<<<<<<<<<<<<<<<<<<<<<<<<<\"\n",
    "\n",
    "photo_path = \"./photos/000002.png\"\n",
    "photo = Image.open(photo_path).resize((320, 500))\n",
    "image.paste(photo, (55, 80))\n",
    "\n",
    "# Function to draw a bounding box with text\n",
    "def draw_bbox(draw, x1, y1, x2, y2, text, font):\n",
    "    draw.rectangle([x1, y1, x2, y2], outline='black')\n",
    "    draw.text((x1 + 5, y1 + 5), text, font=font, fill='black')\n",
    "\n",
    "# Draw 12 bounding boxes with independent functions\n",
    "def id_num_bbox(): draw_bbox(draw, 1000, 20, width-100, 90, text_1, font_content_bold)\n",
    "def khm_name_bbox(): draw_bbox(draw, 400, 110, width-50, 180, text_2, font_khmer_moul)\n",
    "def eng_name_bbox(): draw_bbox(draw, 600, 190, width-300, 250, text_3, font_ocrb)\n",
    "def dob_bbox(): draw_bbox(draw, 400, 260, width-50, 320, text_4, font_khmeros)\n",
    "def pob_bbox(): draw_bbox(draw, 400, 340, width-50, 400, text_5, font_khmeros)\n",
    "def address_1_bbox(): draw_bbox(draw, 400, 410, width-50, 470, text_6, font_khmeros)\n",
    "def address_2_bbox(): draw_bbox(draw, 400, 480, width-50, 540, text_7, font_khmeros)\n",
    "def issue_expire_date_bbox(): draw_bbox(draw, 400, 550, width-50, 610, text_8, font_khmeros)\n",
    "def identify_bbox(): draw_bbox(draw, 400, 620, width-50, 680, text_9, font_khmeros)\n",
    "def mrz_1_bbox(): draw_bbox(draw, 50, 700, width-50, 790, text_10, mrz_font)\n",
    "def mrz_2_bbox(): draw_bbox(draw, 50, 800, width-50, 890, text_11, mrz_font)\n",
    "def mrz_3_bbox(): draw_bbox(draw, 50, 900, width-50, 990, text_12, mrz_font)\n",
    "\n",
    "# List to hold the bounding box data\n",
    "bbox_data = {\"id_card\": []}\n",
    "\n",
    "# Function to add bounding box data to JSON\n",
    "def add_bbox_data(bbox_id, x1, y1, x2, y2, text):\n",
    "    bbox_data[\"id_card\"].append({\n",
    "        f\"{bbox_id}\": {\n",
    "            \"bbox\": {\n",
    "                \"x1\": x1,\n",
    "                \"y1\": y1,\n",
    "                \"x2\": x2,\n",
    "                \"y2\": y2\n",
    "            },\n",
    "            \"text\": text\n",
    "        }\n",
    "    })\n",
    "\n",
    "# Draw the bounding boxes and add data to JSON\n",
    "id_num_bbox()\n",
    "add_bbox_data(\"id_num\", 0, 0, 1300, 40, text_1)\n",
    "\n",
    "khm_name_bbox()\n",
    "add_bbox_data(\"khm_name\", 0, 20, 100, 40, text_2)\n",
    "\n",
    "eng_name_bbox()\n",
    "add_bbox_data(\"eng_name\", 0, 40, 100, 60, text_3)\n",
    "\n",
    "dob_bbox()\n",
    "add_bbox_data(\"dob\", 0, 60, 100, 80, text_4)\n",
    "\n",
    "pob_bbox()\n",
    "add_bbox_data(\"pob\", 0, 80, 100, 100, text_5)\n",
    "\n",
    "address_1_bbox()\n",
    "add_bbox_data(\"address_1\", 0, 100, 100, 120, text_6)\n",
    "\n",
    "address_2_bbox()\n",
    "add_bbox_data(\"address_2\", 0, 120, 100, 140, text_7)\n",
    "\n",
    "issue_expire_date_bbox()\n",
    "add_bbox_data(\"issue_expire_date\", 0, 140, 100, 160, text_8)\n",
    "\n",
    "identify_bbox()\n",
    "add_bbox_data(\"identify\", 0, 160, 100, 180, text_9)\n",
    "\n",
    "mrz_1_bbox()\n",
    "add_bbox_data(\"mrz_1\", 0, 180, 100, 200, text_10)\n",
    "\n",
    "mrz_2_bbox()\n",
    "add_bbox_data(\"mrz_2\", 0, 200, 100, 220, text_11)\n",
    "\n",
    "mrz_3_bbox()\n",
    "add_bbox_data(\"mrz_3\", 0, 220, 100, 240, text_12)\n",
    "\n",
    "# Save or display the image\n",
    "# image.show()  # This will open the image in the default image viewer\n",
    "image.save('output_image.png')  # This will save the image to a file\n",
    "\n",
    "# Export the coordinates to a JSON file\n",
    "with open('bboxes.json', 'w', encoding='utf-8') as json_file:\n",
    "    json.dump(bbox_data, json_file, ensure_ascii=False, indent=4)\n",
    "\n",
    "print(\"Bounding box coordinates have been exported to bboxes.json\")\n"
   ]
  },
  {
   "cell_type": "code",
   "execution_count": null,
   "metadata": {},
   "outputs": [],
   "source": []
  }
 ],
 "metadata": {
  "kernelspec": {
   "display_name": "base",
   "language": "python",
   "name": "python3"
  },
  "language_info": {
   "codemirror_mode": {
    "name": "ipython",
    "version": 3
   },
   "file_extension": ".py",
   "mimetype": "text/x-python",
   "name": "python",
   "nbconvert_exporter": "python",
   "pygments_lexer": "ipython3",
   "version": "3.10.14"
  }
 },
 "nbformat": 4,
 "nbformat_minor": 2
}
