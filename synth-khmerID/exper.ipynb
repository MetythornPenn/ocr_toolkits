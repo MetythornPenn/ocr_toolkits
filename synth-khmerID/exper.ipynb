{
 "cells": [
  {
   "cell_type": "code",
   "execution_count": 16,
   "metadata": {},
   "outputs": [],
   "source": [
    "from utils import (\n",
    "    generate_commune_and_district,\n",
    "    to_khmer_numeral,\n",
    "    generate_dob,\n",
    "    generate_gender,\n",
    "    generate_place_of_birth,\n",
    "    generate_address,\n",
    "    generate_id_number,\n",
    "    generate_issue_and_expiry_dates,\n",
    "    download_image,\n",
    "    generate_khmer_name,\n",
    "    generate_english_name,\n",
    ")\n",
    "\n",
    "\n",
    "from pykhmernlp.number import to_khmer_num\n",
    "\n"
   ]
  },
  {
   "cell_type": "code",
   "execution_count": 7,
   "metadata": {},
   "outputs": [
    {
     "name": "stdout",
     "output_type": "stream",
     "text": [
      "ស្រី\n"
     ]
    }
   ],
   "source": [
    "test_generate_gender = generate_gender()\n",
    "print(test_generate_gender)"
   ]
  },
  {
   "cell_type": "code",
   "execution_count": 11,
   "metadata": {},
   "outputs": [
    {
     "name": "stdout",
     "output_type": "stream",
     "text": [
      "ឃុំពុទ្រា ស្រុកស្ទឹងហាវ កែប\n"
     ]
    }
   ],
   "source": [
    "test_generate_place_of_birth = generate_place_of_birth()\n",
    "print(test_generate_place_of_birth)"
   ]
  },
  {
   "cell_type": "code",
   "execution_count": 20,
   "metadata": {},
   "outputs": [
    {
     "name": "stdout",
     "output_type": "stream",
     "text": [
      "១២៣៤៥\n"
     ]
    }
   ],
   "source": [
    "text = \"price of book = 12345f\"\n",
    "test_to_khmer_numeral = to_khmer_numeral(text)\n",
    "print(test_to_khmer_numeral)"
   ]
  },
  {
   "cell_type": "code",
   "execution_count": 21,
   "metadata": {},
   "outputs": [
    {
     "name": "stdout",
     "output_type": "stream",
     "text": [
      "price of book = ១២៣៤៥f\n"
     ]
    }
   ],
   "source": [
    "text = \"price of book = 12345f\"\n",
    "rs = to_khmer_num(text)\n",
    "print(rs)"
   ]
  },
  {
   "cell_type": "code",
   "execution_count": 22,
   "metadata": {},
   "outputs": [
    {
     "name": "stdout",
     "output_type": "stream",
     "text": [
      "14.05.1982\n"
     ]
    }
   ],
   "source": [
    "test_generate_dob = generate_dob()\n",
    "print(test_generate_dob)"
   ]
  },
  {
   "cell_type": "code",
   "execution_count": 23,
   "metadata": {},
   "outputs": [
    {
     "name": "stdout",
     "output_type": "stream",
     "text": [
      "១៧.០២.១៩៩៤\n"
     ]
    }
   ],
   "source": [
    "test_generate_dob = generate_dob()\n",
    "khm_dob = to_khmer_num(test_generate_dob)\n",
    "\n",
    "print(khm_dob)"
   ]
  },
  {
   "cell_type": "code",
   "execution_count": 25,
   "metadata": {},
   "outputs": [
    {
     "name": "stdout",
     "output_type": "stream",
     "text": [
      "ប្រុស\n"
     ]
    }
   ],
   "source": [
    "test_generate_gender = generate_gender()\n",
    "print(test_generate_gender)\n"
   ]
  },
  {
   "cell_type": "code",
   "execution_count": 26,
   "metadata": {},
   "outputs": [
    {
     "name": "stdout",
     "output_type": "stream",
     "text": [
      "ឃុំរកាកោងទី១ ស្រុកគាស់ក្រឡ ឧត្ដរមានជ័យ\n"
     ]
    }
   ],
   "source": [
    "test_generate_place_of_birth = generate_place_of_birth()\n",
    "print(test_generate_place_of_birth)"
   ]
  },
  {
   "cell_type": "code",
   "execution_count": 27,
   "metadata": {},
   "outputs": [
    {
     "name": "stdout",
     "output_type": "stream",
     "text": [
      "ភូមិគង្គាផុស\n",
      "ឃុំឆ្លូង ស្រុកស្វាយជ្រំ ព្រះវិហារ\n"
     ]
    }
   ],
   "source": [
    "test_generate_address = generate_address()\n",
    "print(test_generate_address)"
   ]
  },
  {
   "cell_type": "code",
   "execution_count": 28,
   "metadata": {},
   "outputs": [
    {
     "name": "stdout",
     "output_type": "stream",
     "text": [
      "970392613\n"
     ]
    }
   ],
   "source": [
    "test_generate_id_number = generate_id_number()\n",
    "print(test_generate_id_number)"
   ]
  },
  {
   "cell_type": "code",
   "execution_count": 29,
   "metadata": {},
   "outputs": [
    {
     "name": "stdout",
     "output_type": "stream",
     "text": [
      "('29.08.2016', '12.12.2021')\n"
     ]
    }
   ],
   "source": [
    "test_generate_issue_and_expiry_dates = generate_issue_and_expiry_dates()\n",
    "print(test_generate_issue_and_expiry_dates)"
   ]
  },
  {
   "cell_type": "code",
   "execution_count": 31,
   "metadata": {},
   "outputs": [],
   "source": [
    "# test_download_image = download_image()\n",
    "# print(test_download_image)"
   ]
  },
  {
   "cell_type": "code",
   "execution_count": 32,
   "metadata": {},
   "outputs": [
    {
     "name": "stdout",
     "output_type": "stream",
     "text": [
      "នៅពេល សហេតុ\n"
     ]
    }
   ],
   "source": [
    "test_generate_khmer_name = generate_khmer_name()\n",
    "print(test_generate_khmer_name)"
   ]
  },
  {
   "cell_type": "code",
   "execution_count": 33,
   "metadata": {},
   "outputs": [
    {
     "name": "stdout",
     "output_type": "stream",
     "text": [
      "unpil alloxy\n"
     ]
    }
   ],
   "source": [
    "test_generate_english_name = generate_english_name()\n",
    "print(test_generate_english_name)"
   ]
  },
  {
   "cell_type": "code",
   "execution_count": 13,
   "metadata": {},
   "outputs": [
    {
     "name": "stdout",
     "output_type": "stream",
     "text": [
      "Bounding box coordinates have been exported to bboxes.json\n"
     ]
    }
   ],
   "source": [
    "import json, os \n",
    "import random\n",
    "from PIL import Image, ImageDraw, ImageFont\n",
    "\n",
    "# Import your utilities (assuming these functions are defined in utils module)\n",
    "from utils import (\n",
    "    generate_commune_and_district,\n",
    "    generate_dob,\n",
    "    generate_gender,\n",
    "    generate_height,\n",
    "    generate_place_of_birth,\n",
    "    generate_address_1,\n",
    "    generate_address_2,\n",
    "    generate_id_number,\n",
    "    generate_issue_and_expiry_dates,\n",
    "    download_image,\n",
    "    generate_khmer_name,\n",
    "    generate_english_name,\n",
    "    generate_gender_eng,\n",
    "    generate_9_digit_number,\n",
    "    generate_mrz_1,\n",
    "    generate_mrz_2,\n",
    "    generate_mrz_3,\n",
    "    get_random_image_path,\n",
    ")\n",
    "\n",
    "from pykhmernlp.number import to_khmer_num\n",
    "\n",
    "# Define the font path and size\n",
    "font_bokor_path = \"fonts/ocr_b.ttf\"\n",
    "font_content_bold_path = \"fonts/content_bold.ttf\"\n",
    "font_dejavu_path = \"fonts/DejaVuSansMono.ttf\"\n",
    "font_khmeros_path = \"fonts/Khmer OS Content.ttf\"\n",
    "font_khmer_moul_path = \"fonts/khmer_moul.ttf\"\n",
    "font_ocrb_path = \"fonts/ocr_b.ttf\"\n",
    "\n",
    "font_size = 12\n",
    "font_bokor = ImageFont.truetype(font_bokor_path, font_size)\n",
    "font_content_bold = ImageFont.truetype(font_content_bold_path, 55)\n",
    "font_dejavu = ImageFont.truetype(font_dejavu_path, font_size)\n",
    "font_khmeros = ImageFont.truetype(font_khmeros_path, font_size)\n",
    "font_khmer_moul = ImageFont.truetype(font_khmer_moul_path, font_size)\n",
    "font_ocrb = ImageFont.truetype(font_ocrb_path, font_size)\n",
    "\n",
    "mrz_font = ImageFont.truetype(font_ocrb_path, 50)\n",
    "\n",
    "# Create a blank white image\n",
    "\"\"\"\n",
    "Ratio : 1.5385\n",
    "400 x 260 : original ID CARD\n",
    "1575   x 1024 : scale with the same ratio\n",
    "\"\"\"\n",
    "width, height = 1575, 1024\n",
    "image = Image.new('RGB', (width, height), 'white')\n",
    "\n",
    "# Create a drawing context\n",
    "draw = ImageDraw.Draw(image)\n",
    "\n",
    "\n",
    "\n",
    "# photo_path = \"./photos/000002.png\"\n",
    "\n",
    "photo_folder = \"photos\"\n",
    "photo_path = get_random_image_path(photo_folder)\n",
    "\n",
    "\n",
    "\n",
    "photo = Image.open(photo_path).resize((320, 500))\n",
    "image.paste(photo, (55, 80))\n",
    "\n",
    "\n",
    "# Function to draw a bounding box with text\n",
    "def draw_bbox(draw, x1, y1, text, font):\n",
    "    # Get text size\n",
    "    bbox = draw.textbbox((0, 0), text, font=font)\n",
    "    text_width = bbox[2] - bbox[0]\n",
    "    text_height = bbox[3] - bbox[1]\n",
    "    \n",
    "    # Add padding\n",
    "    padding_x = 10\n",
    "    padding_y = 10\n",
    "    \n",
    "    x2 = x1 + text_width + 2 * padding_x\n",
    "    y2 = y1 + text_height + 2 * padding_y\n",
    "    \n",
    "    draw.rectangle([x1, y1, x2, y2 ], outline='red')\n",
    "    \n",
    "    # Center text vertically and add padding from the left\n",
    "    text_x = x1 + padding_x\n",
    "    text_y = y1 + (y2 - y1 - text_height) // 2\n",
    "    \n",
    "    draw.text((text_x, text_y), text, font=font, fill='black')\n",
    "    \n",
    "    return x2, y2\n",
    "\n",
    "def draw_bbox_mrz(draw, x1, y1, text, font):\n",
    "    # Get text size\n",
    "    bbox = draw.textbbox((0, 0), text, font=font)\n",
    "    text_width = bbox[2] - bbox[0]\n",
    "    text_height = bbox[3] - bbox[1]\n",
    "    \n",
    "    # Add padding\n",
    "    padding_x = 10\n",
    "    padding_y = 10\n",
    "    \n",
    "    x2 = x1 + text_width + 2 * padding_x\n",
    "    y2 = y1 + text_height + 2 * padding_y\n",
    "    \n",
    "    draw.rectangle([x1, y1, x2, y2 + 15], outline='red')\n",
    "    \n",
    "    # Center text vertically and add padding from the left\n",
    "    text_x = x1 + padding_x\n",
    "    text_y = y1 + (y2 - y1 - text_height) // 2\n",
    "    \n",
    "    draw.text((text_x, text_y), text, font=font, fill='black')\n",
    "    \n",
    "    return x2, y2\n",
    "\n",
    "\n",
    "# List to hold the bounding box data\n",
    "bbox_data = {\"id_card\": []}\n",
    "\n",
    "# Function to add bounding box data to JSON\n",
    "def add_bbox_data(bbox_id, x1, y1, x2, y2, text):\n",
    "    bbox_data[\"id_card\"].append({\n",
    "        f\"{bbox_id}\": {\n",
    "            \"bbox\": {\n",
    "                \"x1\": x1,\n",
    "                \"y1\": y1,\n",
    "                \"x2\": x2,\n",
    "                \"y2\": y2\n",
    "            },\n",
    "            \"text\": text\n",
    "        }\n",
    "    })\n",
    "\n",
    "\n",
    "# Draw 12 bounding boxes with independent functions\n",
    "\n",
    "# Line 1 | ID Number \n",
    "font_id_num = ImageFont.truetype(font_ocrb_path, 50)\n",
    "text_id_num = generate_id_number()\n",
    "def id_num_bbox():\n",
    "    x1, y1 = 1100, 20\n",
    "    x2, y2 = draw_bbox_mrz(draw, x1, y1, text_id_num, font_id_num)\n",
    "    add_bbox_data(\"id_num\", x1, y1, x2, y2-10, text_id_num)\n",
    "\n",
    "# Line 2 : Khmer Name \n",
    "font_khmer_name = ImageFont.truetype(font_khmeros_path, 34)\n",
    "text_khmer_name = f\"គោត្តនាមនិងនាម: {generate_khmer_name()[:random.randint(6, 11)]} {generate_khmer_name()[:random.randint(6, 16)]}\"\n",
    "def khm_name_bbox():\n",
    "    x1, y1 = 400, 110\n",
    "    x2, y2 = draw_bbox(draw, x1, y1, text_khmer_name, font_khmer_name)\n",
    "    add_bbox_data(\"khm_name\", x1, y1, x2, y2, text_khmer_name)\n",
    "\n",
    "# Line 3 : English Name \n",
    "font_eng_name = ImageFont.truetype(font_ocrb_path, 40)\n",
    "text_eng_name = generate_english_name()\n",
    "def eng_name_bbox():\n",
    "    x1, y1 = 600, 190\n",
    "    x2, y2 = draw_bbox_mrz(draw, x1, y1, text_eng_name, font_eng_name)\n",
    "    add_bbox_data(\"eng_name\", x1, y1, x2, y2, text_eng_name)\n",
    "\n",
    "# Line 4 : DOB, Gender, Height\n",
    "font_dob = ImageFont.truetype(font_khmeros_path, 34)\n",
    "text_dob = f\"ថ្ងៃខែឆ្នាំកំណើត: {generate_dob()}  ភេទ: {generate_gender()}  កំពស់: {generate_height()}\"\n",
    "def dob_bbox():\n",
    "    x1, y1 = 400, 260\n",
    "    x2, y2 = draw_bbox(draw, x1, y1, text_dob, font_dob)\n",
    "    add_bbox_data(\"dob\", x1, y1, x2, y2, text_dob)\n",
    "\n",
    "# Line 5 : Place of Birth\n",
    "font_pob = ImageFont.truetype(font_khmeros_path, 34)\n",
    "text_pob = f\"ទីកន្លែងកំណើត: {generate_place_of_birth()}\"\n",
    "def pob_bbox():\n",
    "    x1, y1 = 400, 340\n",
    "    x2, y2 = draw_bbox(draw, x1, y1, text_pob, font_pob)\n",
    "    add_bbox_data(\"pob\", x1, y1, x2, y2, text_pob)\n",
    "\n",
    "# Line 6 : Address Line 1\n",
    "font_address_1 = ImageFont.truetype(font_khmeros_path, 34)\n",
    "text_address_1 = f\"អាសយដ្ឋាន: {generate_address_1()}\"\n",
    "def address_1_bbox():\n",
    "    x1, y1 = 400, 410\n",
    "    x2, y2 = draw_bbox(draw, x1, y1, text_address_1, font_address_1)\n",
    "    add_bbox_data(\"address_1\", x1, y1, x2, y2, text_address_1)\n",
    "\n",
    "\n",
    "# Line 7 : Address Line 2\n",
    "font_address_2 = ImageFont.truetype(font_khmeros_path, 34)\n",
    "text_address_2 = f\"{generate_address_2()}\"\n",
    "def address_2_bbox():\n",
    "    x1, y1 = 400, 480\n",
    "    x2, y2 = draw_bbox(draw, x1, y1, text_address_2, font_address_2)\n",
    "    add_bbox_data(\"address_2\", x1, y1, x2, y2, text_address_2)\n",
    "\n",
    "# Line 8 : Issue and Expiry Date\n",
    "font_expire = ImageFont.truetype(font_khmeros_path, 34)\n",
    "text_expire = f\"សុពលភាព: {to_khmer_num(str(generate_dob()))} ដល់ថ្ងៃ {to_khmer_num(str(generate_dob()))}\"\n",
    "def issue_expire_date_bbox():\n",
    "    x1, y1 = 400, 550\n",
    "    x2, y2 = draw_bbox(draw, x1, y1, text_expire, font_expire)\n",
    "    add_bbox_data(\"issue_expire_date\", x1, y1, x2, y2, text_expire)\n",
    "\n",
    "# Line 9 : Identity Info\n",
    "font_identity = ImageFont.truetype(font_khmeros_path, 34)\n",
    "text_identity = \"ភិនភាគ: ប្រច្រុយចុងភ្នែកស្តាំ\"\n",
    "def identify_bbox():\n",
    "    x1, y1 = 400, 620\n",
    "    x2, y2 = draw_bbox(draw, x1, y1, text_identity, font_identity)\n",
    "    add_bbox_data(\"identify\", x1, y1, x2, y2, text_identity)\n",
    "\n",
    "# Line 10 : MRZ Line 1\n",
    "font_mrz_1 = ImageFont.truetype(font_ocrb_path, 75)\n",
    "text_mrz_1 = generate_mrz_1()\n",
    "def mrz_1_bbox():\n",
    "    x1, y1 = 50, 700\n",
    "    x2, y2 = draw_bbox_mrz(draw, x1, y1, generate_mrz_1(), font_mrz_1)\n",
    "    add_bbox_data(\"mrz_1\", x1, y1, x2, y2, generate_mrz_1())\n",
    "\n",
    "# Line 11 : MRZ Line 2\n",
    "font_mrz_2 = ImageFont.truetype(font_ocrb_path, 75)\n",
    "text_mrz_2 = generate_mrz_2()\n",
    "def mrz_2_bbox():\n",
    "    x1, y1 = 50, 800\n",
    "    x2, y2 = draw_bbox_mrz(draw, x1, y1, text_mrz_2, font_mrz_2)\n",
    "    add_bbox_data(\"mrz_2\", x1, y1, x2, y2, text_mrz_2)\n",
    "\n",
    "# Line 12 : MRZ Line 3\n",
    "font_mrz_3 = ImageFont.truetype(font_ocrb_path, 75)\n",
    "text_mrz_3 = generate_mrz_3()\n",
    "def mrz_3_bbox():\n",
    "    x1, y1 = 50, 900\n",
    "    x2, y2 = draw_bbox_mrz(draw, x1, y1, text_mrz_3, font_mrz_3)\n",
    "    add_bbox_data(\"mrz_3\", x1, y1, x2, y2, text_mrz_3)\n",
    "\n",
    "# Draw the bounding boxes and add data to JSON\n",
    "id_num_bbox()\n",
    "khm_name_bbox()\n",
    "eng_name_bbox()\n",
    "dob_bbox()\n",
    "pob_bbox()\n",
    "address_1_bbox()\n",
    "address_2_bbox()\n",
    "issue_expire_date_bbox()\n",
    "identify_bbox()\n",
    "mrz_1_bbox()\n",
    "mrz_2_bbox()\n",
    "mrz_3_bbox()\n",
    "\n",
    "# Save or display the image\n",
    "# image.show()  # This will open the image in the default image viewer\n",
    "image.save('output_image.png')  # This will save the image to a file\n",
    "\n",
    "# Export the coordinates to a JSON file\n",
    "with open('bboxes.json', 'w', encoding='utf-8') as json_file:\n",
    "    json.dump(bbox_data, json_file, ensure_ascii=False, indent=4)\n",
    "\n",
    "print(\"Bounding box coordinates have been exported to bboxes.json\")\n"
   ]
  },
  {
   "cell_type": "code",
   "execution_count": 3,
   "metadata": {},
   "outputs": [],
   "source": [
    "# Khmer Name line "
   ]
  },
  {
   "cell_type": "code",
   "execution_count": null,
   "metadata": {},
   "outputs": [],
   "source": []
  },
  {
   "cell_type": "code",
   "execution_count": null,
   "metadata": {},
   "outputs": [],
   "source": []
  },
  {
   "cell_type": "code",
   "execution_count": null,
   "metadata": {},
   "outputs": [],
   "source": []
  },
  {
   "cell_type": "code",
   "execution_count": null,
   "metadata": {},
   "outputs": [],
   "source": []
  }
 ],
 "metadata": {
  "kernelspec": {
   "display_name": "base",
   "language": "python",
   "name": "python3"
  },
  "language_info": {
   "codemirror_mode": {
    "name": "ipython",
    "version": 3
   },
   "file_extension": ".py",
   "mimetype": "text/x-python",
   "name": "python",
   "nbconvert_exporter": "python",
   "pygments_lexer": "ipython3",
   "version": "3.10.14"
  }
 },
 "nbformat": 4,
 "nbformat_minor": 2
}
