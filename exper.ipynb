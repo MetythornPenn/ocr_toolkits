{
 "cells": [
  {
   "cell_type": "code",
   "execution_count": 1,
   "metadata": {},
   "outputs": [],
   "source": [
    "\n",
    "\n",
    "from ocr_toolkits import change_files_ext\n",
    "\n",
    "\n",
    "# Example usage\n",
    "change_files_ext('src', 'dst', '.png')\n"
   ]
  },
  {
   "cell_type": "code",
   "execution_count": 7,
   "metadata": {},
   "outputs": [
    {
     "name": "stdout",
     "output_type": "stream",
     "text": [
      "Deleted file: dst/Belgium-passport-mini.jpg\n",
      "Deleted file: dst/Belarus-passport-mini.jpg-text-removed.jpg\n",
      "Deleted file: dst/Belgium-passport-mini.jpg-mask.png\n",
      "Deleted file: dst/Belarus-passport-mini.jpg-mask.png\n",
      "Deleted file: dst/Belarus-passport-mini.jpg\n"
     ]
    }
   ],
   "source": [
    "from ocr_toolkits import delete_files_ext\n",
    "\n",
    "\n",
    "delete_files_ext(\n",
    "    dir = 'dst',\n",
    ")"
   ]
  },
  {
   "cell_type": "code",
   "execution_count": 1,
   "metadata": {},
   "outputs": [
    {
     "name": "stdout",
     "output_type": "stream",
     "text": [
      "Moved file: src/Belarus-passport-mini.jpg-text-removed.jpg -> dst1/Belarus-passport-mini.jpg-text-removed.jpg\n",
      "Moved file: src/Belarus-passport-mini.jpg-mask.png -> dst1/Belarus-passport-mini.jpg-mask.png\n",
      "Moved file: src/Belarus-passport-mini.jpg -> dst1/Belarus-passport-mini.jpg\n"
     ]
    }
   ],
   "source": [
    "from ocr_toolkits import move_files_ext\n",
    "\n",
    "\n",
    "\n",
    "# Move all files from 'src' directory to 'dst' directory\n",
    "move_files_ext(\n",
    "    src_dir = 'src', \n",
    "    dst_dir = 'dst1',\n",
    ")\n",
    "\n",
    "# Move only .jpg files from 'src' directory to 'dst' directory\n",
    "move_files_ext(\n",
    "    src_dir = 'src', \n",
    "    dst_dir = 'dst1',\n",
    "    ext = '.jpg'\n",
    ")\n"
   ]
  },
  {
   "cell_type": "code",
   "execution_count": 1,
   "metadata": {},
   "outputs": [
    {
     "name": "stdout",
     "output_type": "stream",
     "text": [
      "Renamed file: dst1/Belarus-passport-mini.jpg-text-removed.jpg -> dst1/file_000100_new\n"
     ]
    }
   ],
   "source": [
    "from ocr_toolkits import rename_files_ext\n",
    "\n",
    "\n",
    "# Rename all files in 'src' directory with default parameters\n",
    "rename_files_ext('dst2')\n",
    "\n",
    "# Rename only .txt files in 'src' directory with custom parameters\n",
    "# rename_files_ext(\n",
    "#     src_dir='dst1', \n",
    "#     start_num=100, \n",
    "#     prefix='file_', \n",
    "#     suffix='_new', \n",
    "#     digit=6, \n",
    "#     ext='.jpg'\n",
    "# )\n"
   ]
  },
  {
   "cell_type": "code",
   "execution_count": 12,
   "metadata": {},
   "outputs": [],
   "source": [
    "from ocr_toolkits import resize_image\n",
    "\n",
    "resized_image = resize_image(\n",
    "    image_path='./images/img.jpg', \n",
    "    width=555,\n",
    "    height=555,\n",
    "    save=True,\n",
    "    save_path='save.jpg'\n",
    ")"
   ]
  },
  {
   "cell_type": "code",
   "execution_count": 13,
   "metadata": {},
   "outputs": [
    {
     "name": "stdout",
     "output_type": "stream",
     "text": [
      "ប្រុស\n",
      "ស្រី\n"
     ]
    }
   ],
   "source": [
    "from ocr_toolkits.postprocess import autocorrect_gender\n",
    "\n",
    "\n",
    "corrected_gender_eng = autocorrect_gender(\"ប្រុ\", return_eng=False)\n",
    "print(corrected_gender_eng)  # Output: Male\n",
    "\n",
    "# Example usage with return_eng=False (Cambodian output)\n",
    "corrected_gender_kh = autocorrect_gender(\"ស្រ\", return_eng=False)\n",
    "print(corrected_gender_kh)  # Output: ស្រី\n"
   ]
  },
  {
   "cell_type": "code",
   "execution_count": null,
   "metadata": {},
   "outputs": [],
   "source": []
  }
 ],
 "metadata": {
  "kernelspec": {
   "display_name": "py10",
   "language": "python",
   "name": "python3"
  },
  "language_info": {
   "codemirror_mode": {
    "name": "ipython",
    "version": 3
   },
   "file_extension": ".py",
   "mimetype": "text/x-python",
   "name": "python",
   "nbconvert_exporter": "python",
   "pygments_lexer": "ipython3",
   "version": "3.12.2"
  }
 },
 "nbformat": 4,
 "nbformat_minor": 2
}
